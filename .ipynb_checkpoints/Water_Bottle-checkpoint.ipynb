{
 "cells": [
  {
   "cell_type": "code",
   "execution_count": 3,
   "metadata": {},
   "outputs": [
    {
     "name": "stdout",
     "output_type": "stream",
     "text": [
      "/Users/pierre/anaconda3/lib/python3.10/site-packages/_distutils_hack/__init__.py:33: UserWarning: Setuptools is replacing distutils.\n",
      "  warnings.warn(\"Setuptools is replacing distutils.\")\n",
      "Requirement already satisfied: reactpy_jupyter in /Users/pierre/anaconda3/lib/python3.10/site-packages (0.9.5)\n",
      "Requirement already satisfied: anywidget<1 in /Users/pierre/anaconda3/lib/python3.10/site-packages (from reactpy_jupyter) (0.4.3)\n",
      "Requirement already satisfied: reactpy>=1.0.0 in /Users/pierre/anaconda3/lib/python3.10/site-packages (from reactpy_jupyter) (1.0.0)\n",
      "Requirement already satisfied: appdirs in /Users/pierre/anaconda3/lib/python3.10/site-packages (from reactpy_jupyter) (1.4.4)\n",
      "Requirement already satisfied: requests in /Users/pierre/anaconda3/lib/python3.10/site-packages (from reactpy_jupyter) (2.28.1)\n",
      "Requirement already satisfied: jupyter-server in /Users/pierre/anaconda3/lib/python3.10/site-packages (from reactpy_jupyter) (1.23.4)\n",
      "Requirement already satisfied: notebook in /Users/pierre/anaconda3/lib/python3.10/site-packages (from reactpy_jupyter) (6.5.2)\n",
      "Requirement already satisfied: typing-extensions in /Users/pierre/anaconda3/lib/python3.10/site-packages (from reactpy_jupyter) (4.4.0)\n",
      "Requirement already satisfied: ipywidgets>=7.6.0 in /Users/pierre/anaconda3/lib/python3.10/site-packages (from anywidget<1->reactpy_jupyter) (8.0.6)\n",
      "Requirement already satisfied: psygnal>=0.8.1 in /Users/pierre/anaconda3/lib/python3.10/site-packages (from anywidget<1->reactpy_jupyter) (0.9.1)\n",
      "Requirement already satisfied: mypy-extensions>=0.4.3 in /Users/pierre/anaconda3/lib/python3.10/site-packages (from reactpy>=1.0.0->reactpy_jupyter) (0.4.3)\n",
      "Requirement already satisfied: anyio>=3 in /Users/pierre/anaconda3/lib/python3.10/site-packages (from reactpy>=1.0.0->reactpy_jupyter) (3.5.0)\n",
      "Requirement already satisfied: jsonpatch>=1.32 in /Users/pierre/anaconda3/lib/python3.10/site-packages (from reactpy>=1.0.0->reactpy_jupyter) (1.32)\n",
      "Requirement already satisfied: fastjsonschema>=2.14.5 in /Users/pierre/anaconda3/lib/python3.10/site-packages (from reactpy>=1.0.0->reactpy_jupyter) (2.16.2)\n",
      "Requirement already satisfied: colorlog>=6 in /Users/pierre/anaconda3/lib/python3.10/site-packages (from reactpy>=1.0.0->reactpy_jupyter) (6.7.0)\n",
      "Requirement already satisfied: asgiref>=3 in /Users/pierre/anaconda3/lib/python3.10/site-packages (from reactpy>=1.0.0->reactpy_jupyter) (3.7.2)\n",
      "Requirement already satisfied: lxml>=4 in /Users/pierre/anaconda3/lib/python3.10/site-packages (from reactpy>=1.0.0->reactpy_jupyter) (4.9.1)\n",
      "Requirement already satisfied: charset-normalizer<3,>=2 in /Users/pierre/anaconda3/lib/python3.10/site-packages (from requests->reactpy_jupyter) (2.0.4)\n",
      "Requirement already satisfied: idna<4,>=2.5 in /Users/pierre/anaconda3/lib/python3.10/site-packages (from requests->reactpy_jupyter) (3.4)\n",
      "Requirement already satisfied: urllib3<1.27,>=1.21.1 in /Users/pierre/anaconda3/lib/python3.10/site-packages (from requests->reactpy_jupyter) (1.26.14)\n",
      "Requirement already satisfied: certifi>=2017.4.17 in /Users/pierre/anaconda3/lib/python3.10/site-packages (from requests->reactpy_jupyter) (2023.5.7)\n",
      "Requirement already satisfied: argon2-cffi in /Users/pierre/anaconda3/lib/python3.10/site-packages (from jupyter-server->reactpy_jupyter) (21.3.0)\n",
      "Requirement already satisfied: jinja2 in /Users/pierre/anaconda3/lib/python3.10/site-packages (from jupyter-server->reactpy_jupyter) (3.1.2)\n",
      "Requirement already satisfied: jupyter-client>=6.1.12 in /Users/pierre/anaconda3/lib/python3.10/site-packages (from jupyter-server->reactpy_jupyter) (7.3.4)\n",
      "Requirement already satisfied: jupyter-core>=4.7.0 in /Users/pierre/anaconda3/lib/python3.10/site-packages (from jupyter-server->reactpy_jupyter) (5.2.0)\n",
      "Requirement already satisfied: nbconvert>=6.4.4 in /Users/pierre/anaconda3/lib/python3.10/site-packages (from jupyter-server->reactpy_jupyter) (6.5.4)\n",
      "Requirement already satisfied: nbformat>=5.2.0 in /Users/pierre/anaconda3/lib/python3.10/site-packages (from jupyter-server->reactpy_jupyter) (5.7.0)\n",
      "Requirement already satisfied: packaging in /Users/pierre/anaconda3/lib/python3.10/site-packages (from jupyter-server->reactpy_jupyter) (22.0)\n",
      "Requirement already satisfied: prometheus-client in /Users/pierre/anaconda3/lib/python3.10/site-packages (from jupyter-server->reactpy_jupyter) (0.14.1)\n",
      "Requirement already satisfied: pyzmq>=17 in /Users/pierre/anaconda3/lib/python3.10/site-packages (from jupyter-server->reactpy_jupyter) (23.2.0)\n",
      "Requirement already satisfied: Send2Trash in /Users/pierre/anaconda3/lib/python3.10/site-packages (from jupyter-server->reactpy_jupyter) (1.8.0)\n",
      "Requirement already satisfied: terminado>=0.8.3 in /Users/pierre/anaconda3/lib/python3.10/site-packages (from jupyter-server->reactpy_jupyter) (0.17.1)\n",
      "Requirement already satisfied: tornado>=6.1.0 in /Users/pierre/anaconda3/lib/python3.10/site-packages (from jupyter-server->reactpy_jupyter) (6.1)\n",
      "Requirement already satisfied: traitlets>=5.1 in /Users/pierre/anaconda3/lib/python3.10/site-packages (from jupyter-server->reactpy_jupyter) (5.7.1)\n",
      "Requirement already satisfied: websocket-client in /Users/pierre/anaconda3/lib/python3.10/site-packages (from jupyter-server->reactpy_jupyter) (0.58.0)\n",
      "Requirement already satisfied: ipython-genutils in /Users/pierre/anaconda3/lib/python3.10/site-packages (from notebook->reactpy_jupyter) (0.2.0)\n",
      "Requirement already satisfied: nest-asyncio>=1.5 in /Users/pierre/anaconda3/lib/python3.10/site-packages (from notebook->reactpy_jupyter) (1.5.6)\n",
      "Requirement already satisfied: ipykernel in /Users/pierre/anaconda3/lib/python3.10/site-packages (from notebook->reactpy_jupyter) (6.19.2)\n",
      "Requirement already satisfied: nbclassic>=0.4.7 in /Users/pierre/anaconda3/lib/python3.10/site-packages (from notebook->reactpy_jupyter) (0.5.2)\n",
      "Requirement already satisfied: sniffio>=1.1 in /Users/pierre/anaconda3/lib/python3.10/site-packages (from anyio>=3->reactpy>=1.0.0->reactpy_jupyter) (1.2.0)\n",
      "Requirement already satisfied: ipython>=6.1.0 in /Users/pierre/anaconda3/lib/python3.10/site-packages (from ipywidgets>=7.6.0->anywidget<1->reactpy_jupyter) (8.10.0)\n",
      "Requirement already satisfied: widgetsnbextension~=4.0.7 in /Users/pierre/anaconda3/lib/python3.10/site-packages (from ipywidgets>=7.6.0->anywidget<1->reactpy_jupyter) (4.0.7)\n",
      "Requirement already satisfied: jupyterlab-widgets~=3.0.7 in /Users/pierre/anaconda3/lib/python3.10/site-packages (from ipywidgets>=7.6.0->anywidget<1->reactpy_jupyter) (3.0.7)\n",
      "Requirement already satisfied: appnope in /Users/pierre/anaconda3/lib/python3.10/site-packages (from ipykernel->notebook->reactpy_jupyter) (0.1.2)\n",
      "Requirement already satisfied: comm>=0.1.1 in /Users/pierre/anaconda3/lib/python3.10/site-packages (from ipykernel->notebook->reactpy_jupyter) (0.1.2)\n",
      "Requirement already satisfied: debugpy>=1.0 in /Users/pierre/anaconda3/lib/python3.10/site-packages (from ipykernel->notebook->reactpy_jupyter) (1.5.1)\n",
      "Requirement already satisfied: matplotlib-inline>=0.1 in /Users/pierre/anaconda3/lib/python3.10/site-packages (from ipykernel->notebook->reactpy_jupyter) (0.1.6)\n",
      "Requirement already satisfied: psutil in /Users/pierre/anaconda3/lib/python3.10/site-packages (from ipykernel->notebook->reactpy_jupyter) (5.9.0)\n",
      "Requirement already satisfied: jsonpointer>=1.9 in /Users/pierre/anaconda3/lib/python3.10/site-packages (from jsonpatch>=1.32->reactpy>=1.0.0->reactpy_jupyter) (2.1)\n",
      "Requirement already satisfied: entrypoints in /Users/pierre/anaconda3/lib/python3.10/site-packages (from jupyter-client>=6.1.12->jupyter-server->reactpy_jupyter) (0.4)\n",
      "Requirement already satisfied: python-dateutil>=2.8.2 in /Users/pierre/anaconda3/lib/python3.10/site-packages (from jupyter-client>=6.1.12->jupyter-server->reactpy_jupyter) (2.8.2)\n",
      "Requirement already satisfied: platformdirs>=2.5 in /Users/pierre/anaconda3/lib/python3.10/site-packages (from jupyter-core>=4.7.0->jupyter-server->reactpy_jupyter) (2.5.2)\n",
      "Requirement already satisfied: notebook-shim>=0.1.0 in /Users/pierre/anaconda3/lib/python3.10/site-packages (from nbclassic>=0.4.7->notebook->reactpy_jupyter) (0.2.2)\n",
      "Requirement already satisfied: beautifulsoup4 in /Users/pierre/anaconda3/lib/python3.10/site-packages (from nbconvert>=6.4.4->jupyter-server->reactpy_jupyter) (4.11.1)\n",
      "Requirement already satisfied: bleach in /Users/pierre/anaconda3/lib/python3.10/site-packages (from nbconvert>=6.4.4->jupyter-server->reactpy_jupyter) (4.1.0)\n",
      "Requirement already satisfied: defusedxml in /Users/pierre/anaconda3/lib/python3.10/site-packages (from nbconvert>=6.4.4->jupyter-server->reactpy_jupyter) (0.7.1)\n",
      "Requirement already satisfied: jupyterlab-pygments in /Users/pierre/anaconda3/lib/python3.10/site-packages (from nbconvert>=6.4.4->jupyter-server->reactpy_jupyter) (0.1.2)\n",
      "Requirement already satisfied: MarkupSafe>=2.0 in /Users/pierre/anaconda3/lib/python3.10/site-packages (from nbconvert>=6.4.4->jupyter-server->reactpy_jupyter) (2.1.1)\n",
      "Requirement already satisfied: mistune<2,>=0.8.1 in /Users/pierre/anaconda3/lib/python3.10/site-packages (from nbconvert>=6.4.4->jupyter-server->reactpy_jupyter) (0.8.4)\n",
      "Requirement already satisfied: nbclient>=0.5.0 in /Users/pierre/anaconda3/lib/python3.10/site-packages (from nbconvert>=6.4.4->jupyter-server->reactpy_jupyter) (0.5.13)\n",
      "Requirement already satisfied: pandocfilters>=1.4.1 in /Users/pierre/anaconda3/lib/python3.10/site-packages (from nbconvert>=6.4.4->jupyter-server->reactpy_jupyter) (1.5.0)\n",
      "Requirement already satisfied: pygments>=2.4.1 in /Users/pierre/anaconda3/lib/python3.10/site-packages (from nbconvert>=6.4.4->jupyter-server->reactpy_jupyter) (2.15.1)\n",
      "Requirement already satisfied: tinycss2 in /Users/pierre/anaconda3/lib/python3.10/site-packages (from nbconvert>=6.4.4->jupyter-server->reactpy_jupyter) (1.2.1)\n",
      "Requirement already satisfied: jsonschema>=2.6 in /Users/pierre/anaconda3/lib/python3.10/site-packages (from nbformat>=5.2.0->jupyter-server->reactpy_jupyter) (4.17.3)\n",
      "Requirement already satisfied: ptyprocess in /Users/pierre/anaconda3/lib/python3.10/site-packages (from terminado>=0.8.3->jupyter-server->reactpy_jupyter) (0.7.0)\n"
     ]
    },
    {
     "name": "stdout",
     "output_type": "stream",
     "text": [
      "Requirement already satisfied: argon2-cffi-bindings in /Users/pierre/anaconda3/lib/python3.10/site-packages (from argon2-cffi->jupyter-server->reactpy_jupyter) (21.2.0)\n",
      "Requirement already satisfied: six in /Users/pierre/anaconda3/lib/python3.10/site-packages (from websocket-client->jupyter-server->reactpy_jupyter) (1.16.0)\n",
      "Requirement already satisfied: backcall in /Users/pierre/anaconda3/lib/python3.10/site-packages (from ipython>=6.1.0->ipywidgets>=7.6.0->anywidget<1->reactpy_jupyter) (0.2.0)\n",
      "Requirement already satisfied: decorator in /Users/pierre/anaconda3/lib/python3.10/site-packages (from ipython>=6.1.0->ipywidgets>=7.6.0->anywidget<1->reactpy_jupyter) (5.1.1)\n",
      "Requirement already satisfied: jedi>=0.16 in /Users/pierre/anaconda3/lib/python3.10/site-packages (from ipython>=6.1.0->ipywidgets>=7.6.0->anywidget<1->reactpy_jupyter) (0.18.1)\n",
      "Requirement already satisfied: pickleshare in /Users/pierre/anaconda3/lib/python3.10/site-packages (from ipython>=6.1.0->ipywidgets>=7.6.0->anywidget<1->reactpy_jupyter) (0.7.5)\n",
      "Requirement already satisfied: prompt-toolkit<3.1.0,>=3.0.30 in /Users/pierre/anaconda3/lib/python3.10/site-packages (from ipython>=6.1.0->ipywidgets>=7.6.0->anywidget<1->reactpy_jupyter) (3.0.36)\n",
      "Requirement already satisfied: stack-data in /Users/pierre/anaconda3/lib/python3.10/site-packages (from ipython>=6.1.0->ipywidgets>=7.6.0->anywidget<1->reactpy_jupyter) (0.2.0)\n",
      "Requirement already satisfied: pexpect>4.3 in /Users/pierre/anaconda3/lib/python3.10/site-packages (from ipython>=6.1.0->ipywidgets>=7.6.0->anywidget<1->reactpy_jupyter) (4.8.0)\n",
      "Requirement already satisfied: attrs>=17.4.0 in /Users/pierre/anaconda3/lib/python3.10/site-packages (from jsonschema>=2.6->nbformat>=5.2.0->jupyter-server->reactpy_jupyter) (22.1.0)\n",
      "Requirement already satisfied: pyrsistent!=0.17.0,!=0.17.1,!=0.17.2,>=0.14.0 in /Users/pierre/anaconda3/lib/python3.10/site-packages (from jsonschema>=2.6->nbformat>=5.2.0->jupyter-server->reactpy_jupyter) (0.18.0)\n",
      "Requirement already satisfied: cffi>=1.0.1 in /Users/pierre/anaconda3/lib/python3.10/site-packages (from argon2-cffi-bindings->argon2-cffi->jupyter-server->reactpy_jupyter) (1.15.1)\n",
      "Requirement already satisfied: soupsieve>1.2 in /Users/pierre/anaconda3/lib/python3.10/site-packages (from beautifulsoup4->nbconvert>=6.4.4->jupyter-server->reactpy_jupyter) (2.3.2.post1)\n",
      "Requirement already satisfied: webencodings in /Users/pierre/anaconda3/lib/python3.10/site-packages (from bleach->nbconvert>=6.4.4->jupyter-server->reactpy_jupyter) (0.5.1)\n",
      "Requirement already satisfied: pycparser in /Users/pierre/anaconda3/lib/python3.10/site-packages (from cffi>=1.0.1->argon2-cffi-bindings->argon2-cffi->jupyter-server->reactpy_jupyter) (2.21)\n",
      "Requirement already satisfied: parso<0.9.0,>=0.8.0 in /Users/pierre/anaconda3/lib/python3.10/site-packages (from jedi>=0.16->ipython>=6.1.0->ipywidgets>=7.6.0->anywidget<1->reactpy_jupyter) (0.8.3)\n",
      "Requirement already satisfied: wcwidth in /Users/pierre/anaconda3/lib/python3.10/site-packages (from prompt-toolkit<3.1.0,>=3.0.30->ipython>=6.1.0->ipywidgets>=7.6.0->anywidget<1->reactpy_jupyter) (0.2.5)\n",
      "Requirement already satisfied: executing in /Users/pierre/anaconda3/lib/python3.10/site-packages (from stack-data->ipython>=6.1.0->ipywidgets>=7.6.0->anywidget<1->reactpy_jupyter) (0.8.3)\n",
      "Requirement already satisfied: asttokens in /Users/pierre/anaconda3/lib/python3.10/site-packages (from stack-data->ipython>=6.1.0->ipywidgets>=7.6.0->anywidget<1->reactpy_jupyter) (2.0.5)\n",
      "Requirement already satisfied: pure-eval in /Users/pierre/anaconda3/lib/python3.10/site-packages (from stack-data->ipython>=6.1.0->ipywidgets>=7.6.0->anywidget<1->reactpy_jupyter) (0.2.2)\n",
      "Note: you may need to restart the kernel to use updated packages.\n"
     ]
    }
   ],
   "source": [
    "%pip install reactpy_jupyter\n",
    "\n",
    "import reactpy_jupyter"
   ]
  },
  {
   "cell_type": "code",
   "execution_count": 4,
   "metadata": {},
   "outputs": [
    {
     "data": {
      "application/vnd.jupyter.widget-view+json": {
       "model_id": "7e7ff9fadfd34722b4f2bad0b20ee8b1",
       "version_major": 2,
       "version_minor": 0
      },
      "text/plain": [
       "LayoutWidget(Layout(ContextProvider(<function context at 0x151e8f0a0>)))"
      ]
     },
     "execution_count": 4,
     "metadata": {},
     "output_type": "execute_result"
    }
   ],
   "source": [
    "from reactpy import component, html\n",
    "\n",
    "\n",
    "@component\n",
    "def App():\n",
    "    return html.section(\n",
    "        html.h1(\"Welcome to KDnuggets\"),\n",
    "        html.p(\"KD stands for Knowledge Discovery.\"),\n",
    "    )\n",
    "\n",
    "\n",
    "App()"
   ]
  },
  {
   "cell_type": "code",
   "execution_count": 5,
   "metadata": {},
   "outputs": [
    {
     "data": {
      "application/vnd.jupyter.widget-view+json": {
       "model_id": "9a6d85f3af174222ba91f502890b6ea2",
       "version_major": 2,
       "version_minor": 0
      },
      "text/plain": [
       "LayoutWidget(Layout(ContextProvider(<function context at 0x151e8f0a0>)))"
      ]
     },
     "execution_count": 5,
     "metadata": {},
     "output_type": "execute_result"
    }
   ],
   "source": [
    "from reactpy import component, html\n",
    "\n",
    "\n",
    "@component\n",
    "def Photo():\n",
    "    return html.section(\n",
    "        html.h1(\"KDnuggets Blog Featured Image\"),\n",
    "        html.p(html.b(\"KD\"), \" stands for:\"),\n",
    "        html.ul(html.li(\"K: Knowledge\"), html.li(\"D: Discovery\")),\n",
    "        html.img(\n",
    "            {\n",
    "                \"src\": \"https://www.kdnuggets.com/wp-content/uploads/about-kdn-header.jpeg\",\n",
    "                \"style\": {\"width\": \"50%\"},\n",
    "                \"alt\": \"KDnuggets About Image\",\n",
    "            }\n",
    "        ),\n",
    "    )\n",
    "\n",
    "\n",
    "Photo()"
   ]
  },
  {
   "cell_type": "code",
   "execution_count": 7,
   "metadata": {},
   "outputs": [
    {
     "data": {
      "application/vnd.jupyter.widget-view+json": {
       "model_id": "fb49326c9a3c4df38d070672d3abcca6",
       "version_major": 2,
       "version_minor": 0
      },
      "text/plain": [
       "LayoutWidget(Layout(ContextProvider(<function context at 0x151e8f0a0>)))"
      ]
     },
     "execution_count": 7,
     "metadata": {},
     "output_type": "execute_result"
    }
   ],
   "source": [
    "from reactpy import component, html, run\n",
    "\n",
    "\n",
    "@component\n",
    "def PrintButton(display_text, message_text):\n",
    "    def handle_event(event):\n",
    "        print(message_text)\n",
    "\n",
    "    return html.button({\"on_click\": handle_event}, display_text)\n",
    "\n",
    "\n",
    "@component\n",
    "def App():\n",
    "    return html.div(\n",
    "        PrintButton(\"Play\", \"Playing\"),\n",
    "        PrintButton(\"Pause\", \"Paused\"),\n",
    "    )\n",
    "\n",
    "\n",
    "App()"
   ]
  },
  {
   "cell_type": "code",
   "execution_count": null,
   "metadata": {},
   "outputs": [],
   "source": []
  }
 ],
 "metadata": {
  "kernelspec": {
   "display_name": "Python 3 (ipykernel)",
   "language": "python",
   "name": "python3"
  },
  "language_info": {
   "codemirror_mode": {
    "name": "ipython",
    "version": 3
   },
   "file_extension": ".py",
   "mimetype": "text/x-python",
   "name": "python",
   "nbconvert_exporter": "python",
   "pygments_lexer": "ipython3",
   "version": "3.10.9"
  }
 },
 "nbformat": 4,
 "nbformat_minor": 2
}
