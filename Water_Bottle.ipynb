{
 "cells": [
  {
   "cell_type": "code",
   "execution_count": null,
   "metadata": {},
   "outputs": [],
   "source": [
    "%pip install reactpy_jupyter\n",
    "\n",
    "import reactpy_jupyter"
   ]
  },
  {
   "cell_type": "code",
   "execution_count": null,
   "metadata": {},
   "outputs": [
    {
     "data": {
      "application/vnd.jupyter.widget-view+json": {
       "model_id": "7e7ff9fadfd34722b4f2bad0b20ee8b1",
       "version_major": 2,
       "version_minor": 0
      },
      "text/plain": [
       "LayoutWidget(Layout(ContextProvider(<function context at 0x151e8f0a0>)))"
      ]
     },
     "execution_count": 4,
     "metadata": {},
     "output_type": "execute_result"
    }
   ],
   "source": [
    "from reactpy import component, html\n",
    "\n",
    "\n",
    "@component\n",
    "def App():\n",
    "    return html.section(\n",
    "        html.h1(\"Welcome to KDnuggets\"),\n",
    "        html.p(\"KD stands for Knowledge Discovery.\"),\n",
    "    )\n",
    "\n",
    "\n",
    "App()"
   ]
  },
  {
   "cell_type": "code",
   "execution_count": null,
   "metadata": {},
   "outputs": [
    {
     "data": {
      "application/vnd.jupyter.widget-view+json": {
       "model_id": "9a6d85f3af174222ba91f502890b6ea2",
       "version_major": 2,
       "version_minor": 0
      },
      "text/plain": [
       "LayoutWidget(Layout(ContextProvider(<function context at 0x151e8f0a0>)))"
      ]
     },
     "execution_count": 5,
     "metadata": {},
     "output_type": "execute_result"
    }
   ],
   "source": [
    "from reactpy import component, html\n",
    "\n",
    "\n",
    "@component\n",
    "def Photo():\n",
    "    return html.section(\n",
    "        html.h1(\"KDnuggets Blog Featured Image\"),\n",
    "        html.p(html.b(\"KD\"), \" stands for:\"),\n",
    "        html.ul(html.li(\"K: Knowledge\"), html.li(\"D: Discovery\")),\n",
    "        html.img(\n",
    "            {\n",
    "                \"src\": \"https://www.kdnuggets.com/wp-content/uploads/about-kdn-header.jpeg\",\n",
    "                \"style\": {\"width\": \"50%\"},\n",
    "                \"alt\": \"KDnuggets About Image\",\n",
    "            }\n",
    "        ),\n",
    "    )\n",
    "\n",
    "\n",
    "Photo()"
   ]
  },
  {
   "cell_type": "code",
   "execution_count": null,
   "metadata": {},
   "outputs": [
    {
     "data": {
      "application/vnd.jupyter.widget-view+json": {
       "model_id": "fb49326c9a3c4df38d070672d3abcca6",
       "version_major": 2,
       "version_minor": 0
      },
      "text/plain": [
       "LayoutWidget(Layout(ContextProvider(<function context at 0x151e8f0a0>)))"
      ]
     },
     "execution_count": 7,
     "metadata": {},
     "output_type": "execute_result"
    }
   ],
   "source": [
    "from reactpy import component, html, run\n",
    "\n",
    "\n",
    "@component\n",
    "def PrintButton(display_text, message_text):\n",
    "    def handle_event(event):\n",
    "        print(message_text)\n",
    "\n",
    "    return html.button({\"on_click\": handle_event}, display_text)\n",
    "\n",
    "\n",
    "@component\n",
    "def App():\n",
    "    return html.div(\n",
    "        PrintButton(\"Play\", \"Playing\"),\n",
    "        PrintButton(\"Pause\", \"Paused\"),\n",
    "    )\n",
    "\n",
    "\n",
    "App()"
   ]
  },
  {
   "cell_type": "code",
   "execution_count": null,
   "metadata": {},
   "outputs": [
    {
     "data": {
      "application/vnd.jupyter.widget-view+json": {
       "model_id": "8b4af0d76589455c83537a610335da37",
       "version_major": 2,
       "version_minor": 0
      },
      "text/plain": [
       "LayoutWidget(Layout(ContextProvider(<function context at 0x151e8f0a0>)))"
      ]
     },
     "execution_count": 10,
     "metadata": {},
     "output_type": "execute_result"
    }
   ],
   "source": [
    "import asyncio\n",
    "\n",
    "from reactpy import component, event, html, run, use_state\n",
    "\n",
    "\n",
    "@component\n",
    "def App():\n",
    "    recipient, set_recipient = use_state(\"Alice\")\n",
    "    message, set_message = use_state(\"\")\n",
    "\n",
    "    @event(prevent_default=True)\n",
    "    async def handle_submit(event):\n",
    "        set_message(\"\")\n",
    "        print(\"About to send message...\")\n",
    "        await asyncio.sleep(5)\n",
    "        print(f\"Sent '{message}' to {recipient}\")\n",
    "\n",
    "    return html.form(\n",
    "        {\"on_submit\": handle_submit, \"style\": {\"display\": \"inline-grid\"}},\n",
    "        html.label(\n",
    "            {},\n",
    "            \"To: \",\n",
    "            html.select(\n",
    "                {\n",
    "                    \"value\": recipient,\n",
    "                    \"on_change\": lambda event: set_recipient(event[\"target\"][\"value\"]),\n",
    "                },\n",
    "                html.option({\"value\": \"Alice\"}, \"Alice\"),\n",
    "                html.option({\"value\": \"Bob\"}, \"Bob\"),\n",
    "            ),\n",
    "        ),\n",
    "        html.input(\n",
    "            {\n",
    "                \"type\": \"text\",\n",
    "                \"placeholder\": \"Your message...\",\n",
    "                \"value\": message,\n",
    "                \"on_change\": lambda event: set_message(event[\"target\"][\"value\"]),\n",
    "            }\n",
    "        ),\n",
    "        html.button({\"type\": \"submit\"}, \"Send\"),\n",
    "    )\n",
    "\n",
    "\n",
    "App()"
   ]
  },
  {
   "cell_type": "code",
   "execution_count": null,
   "metadata": {},
   "outputs": [
    {
     "data": {
      "application/vnd.jupyter.widget-view+json": {
       "model_id": "9039bd8038b04152bfcb0fd07efbdc49",
       "version_major": 2,
       "version_minor": 0
      },
      "text/plain": [
       "LayoutWidget(Layout(ContextProvider(<function context at 0x151e8f0a0>)))"
      ]
     },
     "execution_count": 14,
     "metadata": {},
     "output_type": "execute_result"
    }
   ],
   "source": [
    "from reactpy import component, html, run, use_state\n",
    "\n",
    "\n",
    "def increment(old_number):\n",
    "    new_number = old_number + 1\n",
    "    return new_number\n",
    "\n",
    "\n",
    "@component\n",
    "def Counter():\n",
    "    number, set_number = use_state(0)\n",
    "\n",
    "    def handle_click(event):\n",
    "        set_number(increment)\n",
    "\n",
    "    return html.div(\n",
    "        html.h1(number),\n",
    "        html.button({\"on_click\": handle_click}, \"Increment\"),\n",
    "    )\n",
    "\n",
    "\n",
    "Counter()"
   ]
  },
  {
   "cell_type": "code",
   "execution_count": null,
   "metadata": {},
   "outputs": [],
   "source": []
  }
 ],
 "metadata": {
  "kernelspec": {
   "display_name": "Python 3 (ipykernel)",
   "language": "python",
   "name": "python3"
  },
  "language_info": {
   "codemirror_mode": {
    "name": "ipython",
    "version": 3
   },
   "file_extension": ".py",
   "mimetype": "text/x-python",
   "name": "python",
   "nbconvert_exporter": "python",
   "pygments_lexer": "ipython3",
   "version": "3.10.9"
  }
 },
 "nbformat": 4,
 "nbformat_minor": 2
}
